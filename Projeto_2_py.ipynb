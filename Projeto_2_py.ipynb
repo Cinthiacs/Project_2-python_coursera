{
  "nbformat": 4,
  "nbformat_minor": 0,
  "metadata": {
    "colab": {
      "name": "Projeto_2.py",
      "provenance": [],
      "collapsed_sections": [],
      "authorship_tag": "ABX9TyOWx/SrMf/MqNGhlacmspI8",
      "include_colab_link": true
    },
    "kernelspec": {
      "name": "python3",
      "display_name": "Python 3"
    },
    "language_info": {
      "name": "python"
    }
  },
  "cells": [
    {
      "cell_type": "markdown",
      "metadata": {
        "id": "view-in-github",
        "colab_type": "text"
      },
      "source": [
        "<a href=\"https://colab.research.google.com/github/Cinthiacs/Project_2-python_coursera/blob/main/Projeto_2_py.ipynb\" target=\"_parent\"><img src=\"https://colab.research.google.com/assets/colab-badge.svg\" alt=\"Open In Colab\"/></a>"
      ]
    },
    {
      "cell_type": "markdown",
      "source": [
        "Armazenando o arquivo.csv na variavel 'Tabela' / \n",
        "Realizando o tratamento da biblioteca pandas para exibir o arquivo em colunas de modo mais organizado / \n",
        "exibindo a tabela (print tabela)\n",
        "\n"
      ],
      "metadata": {
        "id": "r8QPiH3wt_1p"
      }
    },
    {
      "cell_type": "code",
      "source": [
        "import pandas as pd\n",
        "import re\n",
        "tabela = pd.read_csv('Logs_eventos.csv',sep=',')\n",
        "print(tabela)"
      ],
      "metadata": {
        "colab": {
          "base_uri": "https://localhost:8080/"
        },
        "id": "v2_8Ipfon0lh",
        "outputId": "bc8aebc7-d7ca-442d-b398-83049e87a72a"
      },
      "execution_count": null,
      "outputs": [
        {
          "output_type": "stream",
          "name": "stdout",
          "text": [
            "                     Nível  ...                                Categoria da Tarefa\n",
            "Aviso  02/02/2022 11:52:31  ...  As configurações de permissão específico do ap...\n",
            "Aviso  02/02/2022 11:42:11  ...  As configurações de permissão específico do ap...\n",
            "Aviso  02/02/2022 11:41:37  ...  As configurações de permissão específico do ap...\n",
            "Aviso  02/02/2022 11:16:23  ...  As configurações de permissão específico do ap...\n",
            "Aviso  02/02/2022 11:16:23  ...  As configurações de permissão específico do ap...\n",
            "Aviso  02/02/2022 11:16:23  ...  As configurações de permissão específico do ap...\n",
            "Aviso  02/02/2022 11:15:40  ...  As configurações de permissão específico do ap...\n",
            "Aviso  02/02/2022 11:15:00  ...  As configurações de permissão específico do ap...\n",
            "Aviso  02/02/2022 11:13:19  ...  As configurações de permissão específico do ap...\n",
            "Aviso  02/02/2022 11:13:19  ...  As configurações de permissão específico do ap...\n",
            "Aviso  02/02/2022 11:11:26  ...  O driver \\Driver\\WudfRd falhou ao carregar par...\n",
            "Aviso  02/02/2022 10:32:51  ...  As configurações de permissão específico do ap...\n",
            "Aviso  02/02/2022 10:07:12  ...  As configurações de permissão específico do ap...\n",
            "Aviso  02/02/2022 10:03:44  ...  As configurações de permissão específico do ap...\n",
            "Aviso  02/02/2022 10:03:44  ...  As configurações de permissão específico do ap...\n",
            "Aviso  02/02/2022 10:02:56  ...  As configurações de permissão específico do ap...\n",
            "Aviso  02/02/2022 10:01:25  ...  As configurações de permissão específico do ap...\n",
            "Aviso  02/02/2022 10:01:25  ...  As configurações de permissão específico do ap...\n",
            "Aviso  02/02/2022 09:56:18  ...  O NtpClient não conseguiu definir um mesmo nív...\n",
            "Aviso  02/02/2022 09:56:15  ...  A Configuração Automática de WLAN detectou con...\n",
            "Aviso  02/02/2022 09:55:40  ...  O NtpClient não conseguiu definir um mesmo nív...\n",
            "\n",
            "[21 rows x 5 columns]\n"
          ]
        }
      ]
    },
    {
      "cell_type": "code",
      "source": [
        "#Transformar index em coluna\n",
        "tabela = tabela.reset_index(level=0, drop=False)\n",
        "print(tabela.columns)\n",
        "\n"
      ],
      "metadata": {
        "colab": {
          "base_uri": "https://localhost:8080/"
        },
        "id": "i02IlTkzKrEe",
        "outputId": "14805263-3ebe-4224-b133-2deb29662245"
      },
      "execution_count": null,
      "outputs": [
        {
          "output_type": "stream",
          "name": "stdout",
          "text": [
            "Index(['index', 'Nível', 'Data e Hora', 'Fonte', 'Identificação do Evento',\n",
            "       'Categoria da Tarefa'],\n",
            "      dtype='object')\n"
          ]
        }
      ]
    },
    {
      "cell_type": "markdown",
      "source": [
        "*  Atraves da função de_busca (data frame)\n",
        "*  Procurando todas as palavras 'Aviso' atraves da função *findall* utilizando a a expressão regular .* para não procurar depois do *\n",
        "*função df_busca para remover as listas vazias\n",
        "*imprimindo a função df_busca"
      ],
      "metadata": {
        "id": "gJ56LlFp9Nur"
      }
    },
    {
      "cell_type": "code",
      "source": [
        "def conta(nomeColuna=None, regex=None):\n",
        "  df_busca = tabela[nomeColuna].str.findall(regex) # tabela['index'].str.findall('Aviso.*')\n",
        "  df_busca = pd.DataFrame(df_busca)\n",
        "  #print (df_busca[df_busca!=''])\n",
        "  df_busca[df_busca[nomeColuna].map(lambda d: len(d)) > 0]\n",
        "  df_busca = df_busca[df_busca[df_busca.columns[0]].map(lambda d: len(d) > 0)] \n",
        "  return len(df_busca)"
      ],
      "metadata": {
        "id": "XwlJ3-hH6Vix"
      },
      "execution_count": null,
      "outputs": []
    },
    {
      "cell_type": "code",
      "source": [
        "qtd = conta(nomeColuna ='Categoria da Tarefa', regex = '.*falhou.*')\n",
        "print ('Qtd falhou. \\r\\n', qtd)\n",
        "\n",
        "qtd = conta(nomeColuna ='Categoria da Tarefa', regex = '.*erro.*')\n",
        "print ('Qtd erro. \\r\\n', qtd)\n",
        "\n",
        "qtd = conta(nomeColuna ='index', regex = 'Aviso.*')\n",
        "print ('Qtd. Aviso. \\r\\n', qtd)\n",
        "\n",
        "qtd = conta(nomeColuna ='Categoria da Tarefa', regex = '.*permissão.*')\n",
        "print ('Qtd. Permissão\\r\\n', qtd)"
      ],
      "metadata": {
        "colab": {
          "base_uri": "https://localhost:8080/"
        },
        "id": "vWGQbDDrImK1",
        "outputId": "cd88df13-4914-420c-a376-4f2da048c2ac"
      },
      "execution_count": null,
      "outputs": [
        {
          "output_type": "stream",
          "name": "stdout",
          "text": [
            "Qtd falhou. \r\n",
            " 1\n",
            "Qtd erro. \r\n",
            " 2\n",
            "Qtd. Aviso. \r\n",
            " 21\n",
            "Qtd. Permissão\r\n",
            " 17\n"
          ]
        }
      ]
    }
  ]
}