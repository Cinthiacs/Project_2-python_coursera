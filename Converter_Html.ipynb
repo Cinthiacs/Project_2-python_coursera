{
  "nbformat": 4,
  "nbformat_minor": 0,
  "metadata": {
    "colab": {
      "name": "Converter_Html.ipynb",
      "provenance": [],
      "authorship_tag": "ABX9TyPp2YTmDAs8N5aebG2/p/+P",
      "include_colab_link": true
    },
    "kernelspec": {
      "name": "python3",
      "display_name": "Python 3"
    },
    "language_info": {
      "name": "python"
    }
  },
  "cells": [
    {
      "cell_type": "markdown",
      "metadata": {
        "id": "view-in-github",
        "colab_type": "text"
      },
      "source": [
        "<a href=\"https://colab.research.google.com/github/Cinthiacs/Project_2-python_coursera/blob/main/Converter_Html.ipynb\" target=\"_parent\"><img src=\"https://colab.research.google.com/assets/colab-badge.svg\" alt=\"Open In Colab\"/></a>"
      ]
    },
    {
      "cell_type": "code",
      "execution_count": null,
      "metadata": {
        "colab": {
          "base_uri": "https://localhost:8080/"
        },
        "id": "OVcKeqg10F9y",
        "outputId": "44147163-39bd-4e34-ae00-e54b2ec4cefe"
      },
      "outputs": [
        {
          "output_type": "stream",
          "name": "stdout",
          "text": [
            "[NbConvertApp] Converting notebook /content/Projeto_2_py.ipynb to html\n",
            "[NbConvertApp] Writing 283410 bytes to /content/Projeto_2_py.html\n"
          ]
        }
      ],
      "source": [
        "!jupyter nbconvert --to html /content/Projeto_2_py.ipynb"
      ]
    }
  ]
}